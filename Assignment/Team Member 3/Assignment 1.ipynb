{
 "cells": [
  {
   "cell_type": "markdown",
   "id": "502d5630",
   "metadata": {},
   "source": [
    "# 1.Split this string"
   ]
  },
  {
   "cell_type": "markdown",
   "id": "6596d75f",
   "metadata": {},
   "source": [
    "# Basic python"
   ]
  },
  {
   "cell_type": "code",
   "execution_count": 1,
   "id": "e9d8fa75",
   "metadata": {},
   "outputs": [
    {
     "name": "stdout",
     "output_type": "stream",
     "text": [
      "['Hi', 'there', 'sam!']\n"
     ]
    }
   ],
   "source": [
    "s=\"Hi there sam!\"\n",
    "print(s.split())"
   ]
  },
  {
   "cell_type": "markdown",
   "id": "688dcfeb",
   "metadata": {},
   "source": [
    "## 2.Use.formet() to print the following string."
   ]
  },
  {
   "cell_type": "markdown",
   "id": "461c8686",
   "metadata": {},
   "source": [
    "## Output should be:The diameter of Earth is 12742 kilometers."
   ]
  },
  {
   "cell_type": "code",
   "execution_count": 13,
   "id": "2d126698",
   "metadata": {},
   "outputs": [
    {
     "name": "stdout",
     "output_type": "stream",
     "text": [
      "the diameter of Earthis12742kilomrters\n"
     ]
    }
   ],
   "source": [
    "planet=\"Earth\"\n",
    "diameter=12742\n",
    "a=\"the diameter of {planet}is{diameter}kilomrters\"\n",
    "print(a.format(planet=\"Earth\",diameter=12742))"
   ]
  },
  {
   "cell_type": "markdown",
   "id": "3bf92097",
   "metadata": {},
   "source": [
    "## 3.In this next dictionary grab the world\"hello\""
   ]
  },
  {
   "cell_type": "code",
   "execution_count": 11,
   "id": "83f5da75",
   "metadata": {},
   "outputs": [
    {
     "name": "stdout",
     "output_type": "stream",
     "text": [
      "{'k1': [1, 2, 3, {'tricky': ['oh', 'man', 'inception', {'target': [1, 2, 3, 'hello']}]}]}\n"
     ]
    }
   ],
   "source": [
    "d={'k1':[1,2,3,{'tricky':['oh','man','inception',{'target':[1,2,3,'hello']}]}]}\n",
    "print(d)"
   ]
  },
  {
   "cell_type": "markdown",
   "id": "88754554",
   "metadata": {},
   "source": [
    "## Numpy"
   ]
  },
  {
   "cell_type": "markdown",
   "id": "b499c451",
   "metadata": {},
   "source": [
    "## 4.1 Create an array of 10 zeros?"
   ]
  },
  {
   "cell_type": "code",
   "execution_count": 12,
   "id": "9253616f",
   "metadata": {},
   "outputs": [
    {
     "name": "stdout",
     "output_type": "stream",
     "text": [
      "[0. 0. 0. 0. 0. 0. 0. 0. 0. 0.]\n"
     ]
    }
   ],
   "source": [
    "import numpy as np\n",
    "a=np.zeros(10)*0\n",
    "print(a)"
   ]
  },
  {
   "cell_type": "markdown",
   "id": "3a5d000c",
   "metadata": {},
   "source": [
    "## 4.2 Create an array of 10 fives?\n"
   ]
  },
  {
   "cell_type": "code",
   "execution_count": 14,
   "id": "a576af4e",
   "metadata": {},
   "outputs": [
    {
     "name": "stdout",
     "output_type": "stream",
     "text": [
      "[5. 5. 5. 5. 5. 5. 5. 5. 5. 5.]\n"
     ]
    }
   ],
   "source": [
    "import numpy as np\n",
    "a=np.ones(10)*5\n",
    "print(a)"
   ]
  },
  {
   "cell_type": "markdown",
   "id": "499561ee",
   "metadata": {},
   "source": [
    "## 5.Create an array of all the even integers from 20 to35"
   ]
  },
  {
   "cell_type": "code",
   "execution_count": 15,
   "id": "fbd29820",
   "metadata": {},
   "outputs": [
    {
     "name": "stdout",
     "output_type": "stream",
     "text": [
      "[20 22 24 26 28 30 32 34]\n"
     ]
    }
   ],
   "source": [
    "import numpy as np\n",
    "a=np.arange(20,35,2)\n",
    "print(a)"
   ]
  },
  {
   "cell_type": "markdown",
   "id": "98dde788",
   "metadata": {},
   "source": [
    "## 6.Create a 3*3 matrix with values ranging from 0 to 8"
   ]
  },
  {
   "cell_type": "code",
   "execution_count": 16,
   "id": "7e7d539b",
   "metadata": {},
   "outputs": [
    {
     "name": "stdout",
     "output_type": "stream",
     "text": [
      "[[0 1 2]\n",
      " [3 4 5]\n",
      " [6 7 8]]\n"
     ]
    }
   ],
   "source": [
    "import numpy as np\n",
    "a=np.arange(0,9).reshape(3,3)\n",
    "print(a)"
   ]
  },
  {
   "cell_type": "markdown",
   "id": "981ff708",
   "metadata": {},
   "source": [
    "## 7.Concatenate a and b"
   ]
  },
  {
   "cell_type": "markdown",
   "id": "5552fcc4",
   "metadata": {},
   "source": [
    "## a=np.array([1,2,3]),b=np.array([4,5,6])"
   ]
  },
  {
   "cell_type": "code",
   "execution_count": 18,
   "id": "4a0bd80a",
   "metadata": {},
   "outputs": [
    {
     "name": "stdout",
     "output_type": "stream",
     "text": [
      "[1 2 3 4 5 6]\n"
     ]
    }
   ],
   "source": [
    "import numpy as np\n",
    "arr1=np.array([1,2,3])\n",
    "arr2=np.array([4,5,6])\n",
    "arr=np.concatenate((arr1,arr2))\n",
    "print(arr)"
   ]
  },
  {
   "cell_type": "markdown",
   "id": "8308a0e3",
   "metadata": {},
   "source": [
    "## pandas"
   ]
  },
  {
   "cell_type": "markdown",
   "id": "48f5040f",
   "metadata": {},
   "source": [
    "## 8.Create a dataframe with 3 rows and 3 columns"
   ]
  },
  {
   "cell_type": "code",
   "execution_count": 20,
   "id": "7b4d25bc",
   "metadata": {},
   "outputs": [
    {
     "name": "stdout",
     "output_type": "stream",
     "text": [
      "    a   b\n",
      "0   5  10\n",
      "1  20  30\n",
      "2  94  76\n"
     ]
    }
   ],
   "source": [
    "import pandas as pd\n",
    "data=[{'a':5,'b':10},{'a':20,'b':30},{'a':94,'b':76}]\n",
    "df=pd.DataFrame(data)\n",
    "print(df)"
   ]
  },
  {
   "cell_type": "markdown",
   "id": "d7d34702",
   "metadata": {},
   "source": [
    "## 9.Generate the series of dates from 1st Jan,2023 to 10th Feb,2023"
   ]
  },
  {
   "cell_type": "code",
   "execution_count": 22,
   "id": "f48dbd09",
   "metadata": {},
   "outputs": [
    {
     "name": "stdout",
     "output_type": "stream",
     "text": [
      "DatetimeIndex(['2023-01-01', '2023-01-02', '2023-01-03', '2023-01-04',\n",
      "               '2023-01-05', '2023-01-06', '2023-01-07', '2023-01-08',\n",
      "               '2023-01-09', '2023-01-10',\n",
      "               ...\n",
      "               '2023-09-23', '2023-09-24', '2023-09-25', '2023-09-26',\n",
      "               '2023-09-27', '2023-09-28', '2023-09-29', '2023-09-30',\n",
      "               '2023-10-01', '2023-10-02'],\n",
      "              dtype='datetime64[ns]', length=275, freq='D')\n"
     ]
    }
   ],
   "source": [
    "import pandas as pd\n",
    "a=pd.date_range(start='1/1/2023',end='10/2/2023')\n",
    "print(a)"
   ]
  },
  {
   "cell_type": "markdown",
   "id": "1fba403d",
   "metadata": {},
   "source": [
    "## 10.Create 2D list to DataFrame"
   ]
  },
  {
   "cell_type": "code",
   "execution_count": null,
   "id": "1b4fd26f",
   "metadata": {},
   "outputs": [],
   "source": [
    "lists=[[1,'aaa',22],[2,'bbb',25][3,'ccc',24]]"
   ]
  },
  {
   "cell_type": "code",
   "execution_count": 24,
   "id": "defb0117",
   "metadata": {},
   "outputs": [
    {
     "name": "stdout",
     "output_type": "stream",
     "text": [
      "   0    1   2\n",
      "0  1  aaa  22\n",
      "1  2  bbb  25\n",
      "2  3  ccc  24\n"
     ]
    }
   ],
   "source": [
    "import pandas as pd\n",
    "lst=[[1,'aaa',22],[2,'bbb',25],[3,'ccc',24]]\n",
    "df=pd.DataFrame(lst)\n",
    "print(df)"
   ]
  }
 ],
 "metadata": {
  "kernelspec": {
   "display_name": "Python 3 (ipykernel)",
   "language": "python",
   "name": "python3"
  },
  "language_info": {
   "codemirror_mode": {
    "name": "ipython",
    "version": 3
   },
   "file_extension": ".py",
   "mimetype": "text/x-python",
   "name": "python",
   "nbconvert_exporter": "python",
   "pygments_lexer": "ipython3",
   "version": "3.9.12"
  }
 },
 "nbformat": 4,
 "nbformat_minor": 5
}
